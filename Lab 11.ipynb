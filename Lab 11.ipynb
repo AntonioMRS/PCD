{
 "cells": [
  {
   "cell_type": "markdown",
   "metadata": {},
   "source": [
    "#  lab 11\n",
    "\n",
    "***Regression Analysis***\n",
    "\n",
    "Suppose you have dataset with cars (CO2_passenger_cars2018b.csv). You what to know what features contribute to the increase of CO2 emission\n",
    "\n",
    "1 Import needed libraries\n",
    "\n",
    "2 read data from file\n",
    "\n",
    "3 list dataset showing first 5 lines. View data types\n",
    "\n",
    "4 verify possible values of categoric variable Ft\n",
    "\n",
    "5 convert Petrol to PETROL and Diesel to DIESEL\n",
    "\n",
    "6 verify again values of categoric variable Ft\n",
    "\n",
    "7 convert variables 'm (kg)','ec (cm3)','ep (KW) and 'Enedc (g/km)' to numeric\n",
    "\n",
    "    If ‘raise’, then invalid parsing will raise an exception\n",
    "    If ‘coerce’, then invalid parsing will be set as NaN\n",
    "    If ‘ignore’, then invalid parsing will return the input\n",
    "\n",
    "8 remove all lines with NaN from df dataset and set to XY\n",
    "\n",
    "9 create a Y vector and X matrix\n",
    "\n",
    "10 create a regression model\n",
    "\n",
    "11 analyse correlation between variables. Use seaborn. Like for example in:\n",
    "\n",
    "    import seaborn as sns\n",
    "    import matplotlib.pyplot as plt\n",
    "    fig = plt.figure(figsize=[12, 12])\n",
    "    corr_mtx = XY.corr()\n",
    "    sns.heatmap(corr_mtx, xticklabels=corr_mtx.columns, yticklabels=corr_mtx.columns, annot=True, cmap='Blues')\n",
    "    plt.title('Correlation analysis')\n",
    "    plt.show()\n",
    "\n",
    "12 convert Ft into dummy variables\n",
    "\n",
    "13 add dummy variable to a new data set XY2\n",
    "\n",
    "14 create a Y vector and X matrix\n",
    "\n",
    "15 create a regression model\n"
   ]
  },
  {
   "cell_type": "code",
   "execution_count": 1,
   "metadata": {},
   "outputs": [],
   "source": [
    "#Libraries\n",
    "\n",
    "import pandas as pd   \n",
    "import matplotlib.pyplot as plt  \n",
    "import seaborn as sns\n",
    "from sklearn.cluster import KMeans\n",
    "import numpy as np\n",
    "from sklearn.model_selection import train_test_split \n",
    "from sklearn.linear_model import LinearRegression\n",
    "from pandas import DataFrame"
   ]
  },
  {
   "cell_type": "code",
   "execution_count": 2,
   "metadata": {},
   "outputs": [
    {
     "name": "stderr",
     "output_type": "stream",
     "text": [
      "//anaconda3/lib/python3.7/site-packages/IPython/core/interactiveshell.py:3057: DtypeWarning: Columns (2,5) have mixed types. Specify dtype option on import or set low_memory=False.\n",
      "  interactivity=interactivity, compiler=compiler, result=result)\n"
     ]
    }
   ],
   "source": [
    "Car_Dataset = pd.read_csv(\"CO2_File.csv\")"
   ]
  },
  {
   "cell_type": "code",
   "execution_count": 3,
   "metadata": {},
   "outputs": [
    {
     "data": {
      "text/html": [
       "<div>\n",
       "<style scoped>\n",
       "    .dataframe tbody tr th:only-of-type {\n",
       "        vertical-align: middle;\n",
       "    }\n",
       "\n",
       "    .dataframe tbody tr th {\n",
       "        vertical-align: top;\n",
       "    }\n",
       "\n",
       "    .dataframe thead th {\n",
       "        text-align: right;\n",
       "    }\n",
       "</style>\n",
       "<table border=\"1\" class=\"dataframe\">\n",
       "  <thead>\n",
       "    <tr style=\"text-align: right;\">\n",
       "      <th></th>\n",
       "      <th>Fabricante</th>\n",
       "      <th>CommercialName</th>\n",
       "      <th>m (kg)</th>\n",
       "      <th>Enedc (g/km)</th>\n",
       "      <th>Ft</th>\n",
       "      <th>ec (cm3)</th>\n",
       "      <th>ep (KW)</th>\n",
       "    </tr>\n",
       "  </thead>\n",
       "  <tbody>\n",
       "    <tr>\n",
       "      <th>0</th>\n",
       "      <td>VOLKSWAGEN</td>\n",
       "      <td>GOLF</td>\n",
       "      <td>1375</td>\n",
       "      <td>104.0</td>\n",
       "      <td>DIESEL</td>\n",
       "      <td>1598</td>\n",
       "      <td>85.0</td>\n",
       "    </tr>\n",
       "    <tr>\n",
       "      <th>1</th>\n",
       "      <td>VOLKSWAGEN</td>\n",
       "      <td>GOLF</td>\n",
       "      <td>1340</td>\n",
       "      <td>119.0</td>\n",
       "      <td>PETROL</td>\n",
       "      <td>1498</td>\n",
       "      <td>110.0</td>\n",
       "    </tr>\n",
       "    <tr>\n",
       "      <th>2</th>\n",
       "      <td>VOLKSWAGEN</td>\n",
       "      <td>GOLF</td>\n",
       "      <td>1320</td>\n",
       "      <td>120.0</td>\n",
       "      <td>PETROL</td>\n",
       "      <td>1498</td>\n",
       "      <td>110.0</td>\n",
       "    </tr>\n",
       "    <tr>\n",
       "      <th>3</th>\n",
       "      <td>VOLKSWAGEN</td>\n",
       "      <td>POLO</td>\n",
       "      <td>1145</td>\n",
       "      <td>104.0</td>\n",
       "      <td>PETROL</td>\n",
       "      <td>999</td>\n",
       "      <td>70.0</td>\n",
       "    </tr>\n",
       "    <tr>\n",
       "      <th>4</th>\n",
       "      <td>VOLKSWAGEN</td>\n",
       "      <td>POLO</td>\n",
       "      <td>1145</td>\n",
       "      <td>104.0</td>\n",
       "      <td>PETROL</td>\n",
       "      <td>999</td>\n",
       "      <td>70.0</td>\n",
       "    </tr>\n",
       "  </tbody>\n",
       "</table>\n",
       "</div>"
      ],
      "text/plain": [
       "   Fabricante CommercialName m (kg)  Enedc (g/km)      Ft ec (cm3)  ep (KW)\n",
       "0  VOLKSWAGEN           GOLF   1375         104.0  DIESEL     1598     85.0\n",
       "1  VOLKSWAGEN           GOLF   1340         119.0  PETROL     1498    110.0\n",
       "2  VOLKSWAGEN           GOLF   1320         120.0  PETROL     1498    110.0\n",
       "3  VOLKSWAGEN           POLO   1145         104.0  PETROL      999     70.0\n",
       "4  VOLKSWAGEN           POLO   1145         104.0  PETROL      999     70.0"
      ]
     },
     "execution_count": 3,
     "metadata": {},
     "output_type": "execute_result"
    }
   ],
   "source": [
    "Car_Dataset.head()"
   ]
  },
  {
   "cell_type": "code",
   "execution_count": 4,
   "metadata": {},
   "outputs": [
    {
     "data": {
      "text/plain": [
       "Fabricante         object\n",
       "CommercialName     object\n",
       "m (kg)             object\n",
       "Enedc (g/km)      float64\n",
       "Ft                 object\n",
       "ec (cm3)           object\n",
       "ep (KW)           float64\n",
       "dtype: object"
      ]
     },
     "execution_count": 4,
     "metadata": {},
     "output_type": "execute_result"
    }
   ],
   "source": [
    "Car_Dataset.dtypes"
   ]
  },
  {
   "cell_type": "code",
   "execution_count": 5,
   "metadata": {},
   "outputs": [
    {
     "data": {
      "text/plain": [
       "5"
      ]
     },
     "execution_count": 5,
     "metadata": {},
     "output_type": "execute_result"
    }
   ],
   "source": [
    "Ft_Array = Car_Dataset['Ft'].unique()\n",
    "len(Ft_Array)\n"
   ]
  },
  {
   "cell_type": "code",
   "execution_count": 6,
   "metadata": {},
   "outputs": [],
   "source": [
    "#Replacing values to CAPS LOCK\n",
    "\n",
    "Car_Dataset = Car_Dataset.replace('Petrol', 'PETROL')\n",
    "Car_Dataset = Car_Dataset.replace('Diesel', 'DIESEL')"
   ]
  },
  {
   "cell_type": "code",
   "execution_count": 7,
   "metadata": {},
   "outputs": [],
   "source": [
    "#Transforming values from objecto to numeric\n",
    "\n",
    "Car_Dataset.loc[:,'m (kg)']=pd.to_numeric(Car_Dataset.loc[:,'m (kg)'], errors='Coerce')\n",
    "Car_Dataset.loc[:,'ec (cm3)']=pd.to_numeric(Car_Dataset.loc[:,'ec (cm3)'], errors='Coerce')\n"
   ]
  },
  {
   "cell_type": "code",
   "execution_count": 8,
   "metadata": {},
   "outputs": [
    {
     "data": {
      "text/plain": [
       "Fabricante         object\n",
       "CommercialName     object\n",
       "m (kg)            float64\n",
       "Enedc (g/km)      float64\n",
       "Ft                 object\n",
       "ec (cm3)          float64\n",
       "ep (KW)           float64\n",
       "dtype: object"
      ]
     },
     "execution_count": 8,
     "metadata": {},
     "output_type": "execute_result"
    }
   ],
   "source": [
    "Car_Dataset.dtypes"
   ]
  },
  {
   "cell_type": "code",
   "execution_count": 9,
   "metadata": {},
   "outputs": [],
   "source": [
    "Car_Dataset = Car_Dataset.dropna()"
   ]
  },
  {
   "cell_type": "code",
   "execution_count": 10,
   "metadata": {},
   "outputs": [
    {
     "data": {
      "text/html": [
       "<div>\n",
       "<style scoped>\n",
       "    .dataframe tbody tr th:only-of-type {\n",
       "        vertical-align: middle;\n",
       "    }\n",
       "\n",
       "    .dataframe tbody tr th {\n",
       "        vertical-align: top;\n",
       "    }\n",
       "\n",
       "    .dataframe thead th {\n",
       "        text-align: right;\n",
       "    }\n",
       "</style>\n",
       "<table border=\"1\" class=\"dataframe\">\n",
       "  <thead>\n",
       "    <tr style=\"text-align: right;\">\n",
       "      <th></th>\n",
       "      <th>m (kg)</th>\n",
       "      <th>ec (cm3)</th>\n",
       "      <th>ep (KW)</th>\n",
       "    </tr>\n",
       "  </thead>\n",
       "  <tbody>\n",
       "    <tr>\n",
       "      <th>0</th>\n",
       "      <td>1375.0</td>\n",
       "      <td>1598.0</td>\n",
       "      <td>85.0</td>\n",
       "    </tr>\n",
       "    <tr>\n",
       "      <th>1</th>\n",
       "      <td>1340.0</td>\n",
       "      <td>1498.0</td>\n",
       "      <td>110.0</td>\n",
       "    </tr>\n",
       "    <tr>\n",
       "      <th>2</th>\n",
       "      <td>1320.0</td>\n",
       "      <td>1498.0</td>\n",
       "      <td>110.0</td>\n",
       "    </tr>\n",
       "    <tr>\n",
       "      <th>3</th>\n",
       "      <td>1145.0</td>\n",
       "      <td>999.0</td>\n",
       "      <td>70.0</td>\n",
       "    </tr>\n",
       "    <tr>\n",
       "      <th>4</th>\n",
       "      <td>1145.0</td>\n",
       "      <td>999.0</td>\n",
       "      <td>70.0</td>\n",
       "    </tr>\n",
       "  </tbody>\n",
       "</table>\n",
       "</div>"
      ],
      "text/plain": [
       "   m (kg)  ec (cm3)  ep (KW)\n",
       "0  1375.0    1598.0     85.0\n",
       "1  1340.0    1498.0    110.0\n",
       "2  1320.0    1498.0    110.0\n",
       "3  1145.0     999.0     70.0\n",
       "4  1145.0     999.0     70.0"
      ]
     },
     "execution_count": 10,
     "metadata": {},
     "output_type": "execute_result"
    }
   ],
   "source": [
    "X=Car_Dataset.drop(['Fabricante','CommercialName','Enedc (g/km)','Ft'], axis = 1)\n",
    "Y=Car_Dataset.loc[:,'Enedc (g/km)']\n",
    "X.head()"
   ]
  },
  {
   "cell_type": "code",
   "execution_count": 11,
   "metadata": {},
   "outputs": [
    {
     "name": "stderr",
     "output_type": "stream",
     "text": [
      "//anaconda3/lib/python3.7/site-packages/numpy/core/fromnumeric.py:2389: FutureWarning: Method .ptp is deprecated and will be removed in a future version. Use numpy.ptp instead.\n",
      "  return ptp(axis=axis, out=out, **kwargs)\n"
     ]
    },
    {
     "data": {
      "text/html": [
       "<table class=\"simpletable\">\n",
       "<caption>OLS Regression Results</caption>\n",
       "<tr>\n",
       "  <th>Dep. Variable:</th>      <td>Enedc (g/km)</td>   <th>  R-squared:         </th>  <td>   0.494</td>  \n",
       "</tr>\n",
       "<tr>\n",
       "  <th>Model:</th>                   <td>OLS</td>       <th>  Adj. R-squared:    </th>  <td>   0.494</td>  \n",
       "</tr>\n",
       "<tr>\n",
       "  <th>Method:</th>             <td>Least Squares</td>  <th>  F-statistic:       </th>  <td>3.055e+05</td> \n",
       "</tr>\n",
       "<tr>\n",
       "  <th>Date:</th>             <td>Tue, 26 Nov 2019</td> <th>  Prob (F-statistic):</th>   <td>  0.00</td>   \n",
       "</tr>\n",
       "<tr>\n",
       "  <th>Time:</th>                 <td>12:15:17</td>     <th>  Log-Likelihood:    </th> <td>-3.9109e+06</td>\n",
       "</tr>\n",
       "<tr>\n",
       "  <th>No. Observations:</th>      <td>936948</td>      <th>  AIC:               </th>  <td>7.822e+06</td> \n",
       "</tr>\n",
       "<tr>\n",
       "  <th>Df Residuals:</th>          <td>936944</td>      <th>  BIC:               </th>  <td>7.822e+06</td> \n",
       "</tr>\n",
       "<tr>\n",
       "  <th>Df Model:</th>              <td>     3</td>      <th>                     </th>      <td> </td>     \n",
       "</tr>\n",
       "<tr>\n",
       "  <th>Covariance Type:</th>      <td>nonrobust</td>    <th>                     </th>      <td> </td>     \n",
       "</tr>\n",
       "</table>\n",
       "<table class=\"simpletable\">\n",
       "<tr>\n",
       "      <td></td>        <th>coef</th>     <th>std err</th>      <th>t</th>      <th>P>|t|</th>  <th>[0.025</th>    <th>0.975]</th>  \n",
       "</tr>\n",
       "<tr>\n",
       "  <th>const</th>    <td>   63.3050</td> <td>    0.090</td> <td>  700.122</td> <td> 0.000</td> <td>   63.128</td> <td>   63.482</td>\n",
       "</tr>\n",
       "<tr>\n",
       "  <th>m (kg)</th>   <td>    0.0241</td> <td>    0.000</td> <td>  232.309</td> <td> 0.000</td> <td>    0.024</td> <td>    0.024</td>\n",
       "</tr>\n",
       "<tr>\n",
       "  <th>ec (cm3)</th> <td>   -0.0017</td> <td> 7.11e-05</td> <td>  -23.931</td> <td> 0.000</td> <td>   -0.002</td> <td>   -0.002</td>\n",
       "</tr>\n",
       "<tr>\n",
       "  <th>ep (KW)</th>  <td>    0.3118</td> <td>    0.001</td> <td>  393.372</td> <td> 0.000</td> <td>    0.310</td> <td>    0.313</td>\n",
       "</tr>\n",
       "</table>\n",
       "<table class=\"simpletable\">\n",
       "<tr>\n",
       "  <th>Omnibus:</th>       <td>204532.748</td> <th>  Durbin-Watson:     </th>  <td>   0.935</td> \n",
       "</tr>\n",
       "<tr>\n",
       "  <th>Prob(Omnibus):</th>   <td> 0.000</td>   <th>  Jarque-Bera (JB):  </th> <td>871625.317</td>\n",
       "</tr>\n",
       "<tr>\n",
       "  <th>Skew:</th>            <td> 1.021</td>   <th>  Prob(JB):          </th>  <td>    0.00</td> \n",
       "</tr>\n",
       "<tr>\n",
       "  <th>Kurtosis:</th>        <td> 7.261</td>   <th>  Cond. No.          </th>  <td>1.14e+04</td> \n",
       "</tr>\n",
       "</table><br/><br/>Warnings:<br/>[1] Standard Errors assume that the covariance matrix of the errors is correctly specified.<br/>[2] The condition number is large, 1.14e+04. This might indicate that there are<br/>strong multicollinearity or other numerical problems."
      ],
      "text/plain": [
       "<class 'statsmodels.iolib.summary.Summary'>\n",
       "\"\"\"\n",
       "                            OLS Regression Results                            \n",
       "==============================================================================\n",
       "Dep. Variable:           Enedc (g/km)   R-squared:                       0.494\n",
       "Model:                            OLS   Adj. R-squared:                  0.494\n",
       "Method:                 Least Squares   F-statistic:                 3.055e+05\n",
       "Date:                Tue, 26 Nov 2019   Prob (F-statistic):               0.00\n",
       "Time:                        12:15:17   Log-Likelihood:            -3.9109e+06\n",
       "No. Observations:              936948   AIC:                         7.822e+06\n",
       "Df Residuals:                  936944   BIC:                         7.822e+06\n",
       "Df Model:                           3                                         \n",
       "Covariance Type:            nonrobust                                         \n",
       "==============================================================================\n",
       "                 coef    std err          t      P>|t|      [0.025      0.975]\n",
       "------------------------------------------------------------------------------\n",
       "const         63.3050      0.090    700.122      0.000      63.128      63.482\n",
       "m (kg)         0.0241      0.000    232.309      0.000       0.024       0.024\n",
       "ec (cm3)      -0.0017   7.11e-05    -23.931      0.000      -0.002      -0.002\n",
       "ep (KW)        0.3118      0.001    393.372      0.000       0.310       0.313\n",
       "==============================================================================\n",
       "Omnibus:                   204532.748   Durbin-Watson:                   0.935\n",
       "Prob(Omnibus):                  0.000   Jarque-Bera (JB):           871625.317\n",
       "Skew:                           1.021   Prob(JB):                         0.00\n",
       "Kurtosis:                       7.261   Cond. No.                     1.14e+04\n",
       "==============================================================================\n",
       "\n",
       "Warnings:\n",
       "[1] Standard Errors assume that the covariance matrix of the errors is correctly specified.\n",
       "[2] The condition number is large, 1.14e+04. This might indicate that there are\n",
       "strong multicollinearity or other numerical problems.\n",
       "\"\"\""
      ]
     },
     "execution_count": 11,
     "metadata": {},
     "output_type": "execute_result"
    }
   ],
   "source": [
    "import statsmodels.api as sm\n",
    "X=sm.add_constant(X)\n",
    "model = sm.OLS(Y,X).fit()\n",
    "model.summary()"
   ]
  },
  {
   "cell_type": "code",
   "execution_count": null,
   "metadata": {},
   "outputs": [],
   "source": []
  },
  {
   "cell_type": "code",
   "execution_count": null,
   "metadata": {},
   "outputs": [],
   "source": []
  },
  {
   "cell_type": "code",
   "execution_count": null,
   "metadata": {},
   "outputs": [],
   "source": []
  }
 ],
 "metadata": {
  "kernelspec": {
   "display_name": "Python 3",
   "language": "python",
   "name": "python3"
  },
  "language_info": {
   "codemirror_mode": {
    "name": "ipython",
    "version": 3
   },
   "file_extension": ".py",
   "mimetype": "text/x-python",
   "name": "python",
   "nbconvert_exporter": "python",
   "pygments_lexer": "ipython3",
   "version": "3.7.3"
  }
 },
 "nbformat": 4,
 "nbformat_minor": 2
}
