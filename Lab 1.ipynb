{
 "cells": [
  {
   "cell_type": "code",
   "execution_count": 1,
   "metadata": {},
   "outputs": [
    {
     "data": {
      "text/plain": [
       "False"
      ]
     },
     "execution_count": 1,
     "metadata": {},
     "output_type": "execute_result"
    }
   ],
   "source": [
    "#Verify if value is integer\n",
    "\n",
    "value = 3.5\n",
    "int(value) == value"
   ]
  },
  {
   "cell_type": "code",
   "execution_count": 2,
   "metadata": {},
   "outputs": [
    {
     "data": {
      "text/plain": [
       "False"
      ]
     },
     "execution_count": 2,
     "metadata": {},
     "output_type": "execute_result"
    }
   ],
   "source": [
    "#Verify if value is even\n",
    "\n",
    "value = 5\n",
    "value % 2 == 0\n"
   ]
  },
  {
   "cell_type": "code",
   "execution_count": 3,
   "metadata": {},
   "outputs": [
    {
     "data": {
      "text/plain": [
       "True"
      ]
     },
     "execution_count": 3,
     "metadata": {},
     "output_type": "execute_result"
    }
   ],
   "source": [
    "#Insert two numbers. Is the first is bigger than the second?\n",
    "\n",
    "Small = 5\n",
    "Big = 7\n",
    "Big > Small"
   ]
  },
  {
   "cell_type": "code",
   "execution_count": 4,
   "metadata": {},
   "outputs": [
    {
     "data": {
      "text/plain": [
       "True"
      ]
     },
     "execution_count": 4,
     "metadata": {},
     "output_type": "execute_result"
    }
   ],
   "source": [
    "#Verify if one value is multiple of another\n",
    "\n",
    "X = 10\n",
    "Y = 5\n",
    "\n",
    "(X % Y == 0) or (Y % X == 0)"
   ]
  },
  {
   "cell_type": "code",
   "execution_count": 5,
   "metadata": {},
   "outputs": [
    {
     "name": "stdout",
     "output_type": "stream",
     "text": [
      "5\n"
     ]
    }
   ],
   "source": [
    "#Calculate the interest earn by an investor that invested a capital of 200 during 3 years with an interest rate of\n",
    "3\n",
    "\n",
    "Capital = 300\n",
    "Years = 3 \n",
    "Rate = 3 \n",
    "\n",
    "Value = 300 * 3 * 3\n",
    "print(value)"
   ]
  },
  {
   "cell_type": "code",
   "execution_count": 8,
   "metadata": {},
   "outputs": [
    {
     "name": "stdout",
     "output_type": "stream",
     "text": [
      "Insert your name: António\n",
      "Insert your age: 23\n",
      "António was born in 1996\n"
     ]
    }
   ],
   "source": [
    "#Ask the user to insert name and age. Calculate the birth. Print a result saying the 'this person was born in'\n",
    "#1. Solve the problem without using modules and libraries\n",
    "\n",
    "Name = input(\"Insert your name: \")\n",
    "Age = input(\"Insert your age: \")\n",
    "\n",
    "Birth = 2019 - int(Age)\n",
    "\n",
    "print(str(Name) + \" was born in \" + str(Birth))"
   ]
  },
  {
   "cell_type": "code",
   "execution_count": 22,
   "metadata": {},
   "outputs": [
    {
     "name": "stdout",
     "output_type": "stream",
     "text": [
      "Enter your age: 23\n",
      "1996\n"
     ]
    }
   ],
   "source": [
    "#2. Solve the problem using the date library from module datetime, as follow:\n",
    "\n",
    "from datetime import date\n",
    "today = date.today()\n",
    "today.year\n",
    "\n",
    "Age = input(\"Enter your age: \")\n",
    "\n",
    "Birth = int(today.year) - int(Age)\n",
    "print(Birth)"
   ]
  },
  {
   "cell_type": "code",
   "execution_count": 34,
   "metadata": {},
   "outputs": [
    {
     "name": "stdout",
     "output_type": "stream",
     "text": [
      "Insert your name: An\n",
      "AN\n"
     ]
    }
   ],
   "source": [
    "#Ask the user to insert forenames, surnames. create a new variable (name) with your complete name.\n",
    "1. #Where all the characters of the name are capitalized\n",
    "\n",
    "name = input(\"Insert your name: \")\n",
    "name.upper()\n",
    "\n",
    "print(name.upper())"
   ]
  },
  {
   "cell_type": "code",
   "execution_count": 36,
   "metadata": {},
   "outputs": [
    {
     "name": "stdout",
     "output_type": "stream",
     "text": [
      "Insert your name: antonio miguel da silva reis de miranda relvas\n",
      "Antonio Miguel Da Silva Reis De Miranda Relvas\n"
     ]
    }
   ],
   "source": [
    "2. #Where the only the first character of each name (word) is capitalized\n",
    "\n",
    "name = input(\"Insert your name: \")\n",
    "print(name.title())"
   ]
  },
  {
   "cell_type": "code",
   "execution_count": 37,
   "metadata": {},
   "outputs": [
    {
     "name": "stdout",
     "output_type": "stream",
     "text": [
      "Insert your name: Antonio Miguel da Silva Reis de Miranda Relvas\n",
      "antonio miguel da silva reis de miranda relvas\n"
     ]
    }
   ],
   "source": [
    "3. #Where all the characters of the name are lower\n",
    "\n",
    "name = input(\"Insert your name: \")\n",
    "print(name.lower())"
   ]
  },
  {
   "cell_type": "code",
   "execution_count": 41,
   "metadata": {},
   "outputs": [
    {
     "name": "stdout",
     "output_type": "stream",
     "text": [
      "Insert your name: antónio miguel da silva reis de miranda relvas\n",
      "António miguel da silva reis de miranda relvas\n"
     ]
    }
   ],
   "source": [
    "4. #Where only the first charater of the first name is capitalized\n",
    "name = input(\"Insert your name: \")\n",
    "CAP = name.capitalize()\n",
    "\n",
    "print(CAP)"
   ]
  },
  {
   "cell_type": "code",
   "execution_count": 47,
   "metadata": {},
   "outputs": [
    {
     "name": "stdout",
     "output_type": "stream",
     "text": [
      "Insert your name: Antonio Miguel da Silva Reis de Miranda Relvas\n",
      "15\n"
     ]
    }
   ],
   "source": [
    "# Suppose that your name is stored in the variable name, use the following method to show where in which character appears the firs \"da\".\n",
    "\n",
    "name = input(\"Insert your name: \")\n",
    "print(name.find(\"da\"))\n",
    "\n",
    "\n"
   ]
  },
  {
   "cell_type": "code",
   "execution_count": null,
   "metadata": {},
   "outputs": [],
   "source": []
  }
 ],
 "metadata": {
  "kernelspec": {
   "display_name": "Python 3",
   "language": "python",
   "name": "python3"
  },
  "language_info": {
   "codemirror_mode": {
    "name": "ipython",
    "version": 3
   },
   "file_extension": ".py",
   "mimetype": "text/x-python",
   "name": "python",
   "nbconvert_exporter": "python",
   "pygments_lexer": "ipython3",
   "version": "3.7.3"
  }
 },
 "nbformat": 4,
 "nbformat_minor": 2
}
